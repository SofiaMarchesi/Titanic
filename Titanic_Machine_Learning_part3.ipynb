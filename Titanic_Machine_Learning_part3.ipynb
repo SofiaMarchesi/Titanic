{
  "nbformat": 4,
  "nbformat_minor": 0,
  "metadata": {
    "colab": {
      "name": "Titanic_Machine_Learning_part3.ipynb",
      "provenance": [],
      "collapsed_sections": [],
      "authorship_tag": "ABX9TyO1zqR5lSgcqrhm1u7PWB32",
      "include_colab_link": true
    },
    "kernelspec": {
      "name": "python3",
      "display_name": "Python 3"
    }
  },
  "cells": [
    {
      "cell_type": "markdown",
      "metadata": {
        "id": "view-in-github",
        "colab_type": "text"
      },
      "source": [
        "<a href=\"https://colab.research.google.com/github/SofiaMarchesi/Titanic/blob/main/Titanic_Machine_Learning_part3.ipynb\" target=\"_parent\"><img src=\"https://colab.research.google.com/assets/colab-badge.svg\" alt=\"Open In Colab\"/></a>"
      ]
    },
    {
      "cell_type": "code",
      "metadata": {
        "id": "uqGArIsGfjiQ",
        "outputId": "2d9aeba0-a77e-401f-8db5-84c203e609d3",
        "colab": {
          "base_uri": "https://localhost:8080/",
          "height": 34
        }
      },
      "source": [
        "from google.colab import drive\n",
        "import pandas as pd\n",
        "\n",
        "drive.mount('/content/drive')\n",
        "train = pd.read_csv('/content/drive/My Drive/Colab Notebooks/Datasets/train_cabin.csv')\n",
        "test = pd.read_csv('/content/drive/My Drive/Colab Notebooks/Datasets/test_cabin.csv')\n"
      ],
      "execution_count": 50,
      "outputs": [
        {
          "output_type": "stream",
          "text": [
            "Drive already mounted at /content/drive; to attempt to forcibly remount, call drive.mount(\"/content/drive\", force_remount=True).\n"
          ],
          "name": "stdout"
        }
      ]
    },
    {
      "cell_type": "code",
      "metadata": {
        "id": "7WQAkUlZgswJ"
      },
      "source": [
        "train1=train.copy()\n",
        "test1 = test.copy()"
      ],
      "execution_count": 51,
      "outputs": []
    },
    {
      "cell_type": "code",
      "metadata": {
        "id": "A864blS9l-uo"
      },
      "source": [
        "test1 = test1.fillna(-1)"
      ],
      "execution_count": 52,
      "outputs": []
    },
    {
      "cell_type": "code",
      "metadata": {
        "id": "YU7zDVlDg6-H"
      },
      "source": [
        "from sklearn.model_selection import train_test_split,cross_val_score,GridSearchCV\n",
        "from sklearn.metrics import confusion_matrix,classification_report,accuracy_score\n",
        "\n",
        "import matplotlib.pyplot as plt\n",
        "import numpy as np\n",
        "\n",
        "from sklearn.preprocessing import MinMaxScaler,StandardScaler\n",
        "from sklearn.ensemble import RandomForestClassifier, ExtraTreesClassifier,VotingClassifier, AdaBoostClassifier,GradientBoostingClassifier\n",
        "from sklearn.linear_model import LogisticRegression,RidgeClassifier\n",
        "from sklearn.svm import SVC\n",
        "from sklearn.neighbors import KNeighborsClassifier\n",
        "from sklearn.tree import DecisionTreeClassifier\n"
      ],
      "execution_count": 53,
      "outputs": []
    },
    {
      "cell_type": "markdown",
      "metadata": {
        "id": "5IRiLO3Pvprp"
      },
      "source": [
        "The best model was GradientBoost and RandomForest\n",
        " Kaggle = 0.78468 top 10%\n",
        " (the last model) "
      ]
    },
    {
      "cell_type": "markdown",
      "metadata": {
        "id": "hQ-nWSfvmkE6"
      },
      "source": [
        "# Machine Learning with all features"
      ]
    },
    {
      "cell_type": "markdown",
      "metadata": {
        "id": "z1ROyqF-mE6o"
      },
      "source": [
        "# RandomForestClassifier"
      ]
    },
    {
      "cell_type": "code",
      "metadata": {
        "id": "Vc62CUYOhkxL"
      },
      "source": [
        "features = ['Age', 'Fare','Name_Capt','Name_Master','Name_Miss', 'Name_Mr', 'Name_Mrs', 'Name_Ms','Name_Sir', 'Pclass_A', \n",
        "            'Pclass_B', 'Pclass_C', 'Sex_female','Sex_male', 'Embarked_C', 'Embarked_S','Family size_Alone', 'Family size_Huge', \n",
        "            'Family size_Large','Family size_Small', 'Cabin_B','Cabin_X']\n",
        "y = train1['Survived']\n",
        "X= train1[features]\n",
        "X_train, X_test, y_train, y_test = train_test_split(X,y,random_state=0,test_size=0.5)"
      ],
      "execution_count": 54,
      "outputs": []
    },
    {
      "cell_type": "code",
      "metadata": {
        "id": "WXTUv2KDhunZ",
        "outputId": "bafb496f-13ef-4ee1-af6b-130d75b76772",
        "colab": {
          "base_uri": "https://localhost:8080/",
          "height": 333
        }
      },
      "source": [
        "rf = RandomForestClassifier(criterion= 'entropy', max_depth= 5,max_features= 6, min_samples_leaf= 4, n_estimators=150, random_state=0).fit(X_train,y_train)\n",
        "\n",
        "rf_cross = cross_val_score(rf, X_train,y_train, cv=10, n_jobs=-1)\n",
        "\n",
        "y_pred_rf1 =  rf.predict(X_test)\n",
        "\n",
        "print('Cross validation Scores:\\n', (rf_cross))\n",
        "print('Cross validation Scores Média:\\n', (rf_cross.mean()))\n",
        "print('Score test {:.4f}'.format(rf.score(X_test,y_test)))\n",
        "print('Score train: {:.4f}'.format(rf.score(X_train,y_train)))\n",
        "print(confusion_matrix(y_test, y_pred_rf1))\n",
        "print(classification_report(y_test, y_pred_rf1))"
      ],
      "execution_count": 55,
      "outputs": [
        {
          "output_type": "stream",
          "text": [
            "Cross validation Scores:\n",
            " [0.86666667 0.75555556 0.82222222 0.82222222 0.8        0.77272727\n",
            " 0.84090909 0.88636364 0.84090909 0.84090909]\n",
            "Cross validation Scores Média:\n",
            " 0.8248484848484848\n",
            "Score test 0.8296\n",
            "Score train: 0.8472\n",
            "[[248  35]\n",
            " [ 41 122]]\n",
            "              precision    recall  f1-score   support\n",
            "\n",
            "           0       0.86      0.88      0.87       283\n",
            "           1       0.78      0.75      0.76       163\n",
            "\n",
            "    accuracy                           0.83       446\n",
            "   macro avg       0.82      0.81      0.81       446\n",
            "weighted avg       0.83      0.83      0.83       446\n",
            "\n"
          ],
          "name": "stdout"
        }
      ]
    },
    {
      "cell_type": "markdown",
      "metadata": {
        "id": "5_V83uGbioXq"
      },
      "source": [
        "- 0.8229 - max_depth = 6\n",
        "- 0.8251 - max_depth = 5\n",
        "- 0.8274 - max_feature = 6\n",
        "- 0.8274 - min_samples_leaf = 4\n",
        "- 0.8296 - n_estimators = 150\n"
      ]
    },
    {
      "cell_type": "markdown",
      "metadata": {
        "id": "3d8xGCi5mSUD"
      },
      "source": [
        "# SVC"
      ]
    },
    {
      "cell_type": "code",
      "metadata": {
        "id": "M69wPg5ppub_"
      },
      "source": [
        "y = train1['Survived']\n",
        "X = StandardScaler().fit_transform(train1[features])\n",
        "X_train, X_test, y_train, y_test = train_test_split(X,y,random_state=0,test_size=0.5)"
      ],
      "execution_count": 56,
      "outputs": []
    },
    {
      "cell_type": "code",
      "metadata": {
        "id": "HdjIDZa_rB7R",
        "outputId": "c7080c73-e132-4a35-dfc3-fa6550a5eb8f",
        "colab": {
          "base_uri": "https://localhost:8080/",
          "height": 88
        }
      },
      "source": [
        "'''param_grid= {'C':[0.00001,0.0001,0.001,0.01,0.1,1,5,10,20], 'kernel': ['linear', 'poly', 'rbf', 'sigmoid'],'degree': range(2,5),'gamma':['scale', 'auto'],'probability': [True,False],}\n",
        "\n",
        "\n",
        "svc_cv = GridSearchCV(SVC(), param_grid, cv=10).fit(X_train,y_train)\n",
        "\n",
        "\n",
        "# Print the tuned parameters and score\n",
        "print(\"Tuned Decision Tree Parameters: {}\".format(svc_cv.best_params_))\n",
        "print(\"Best score is {}\".format(svc_cv.best_score_))'''"
      ],
      "execution_count": 41,
      "outputs": [
        {
          "output_type": "execute_result",
          "data": {
            "application/vnd.google.colaboratory.intrinsic+json": {
              "type": "string"
            },
            "text/plain": [
              "'param_grid= {\\'C\\':[0.00001,0.0001,0.001,0.01,0.1,1,5,10,20], \\'kernel\\': [\\'linear\\', \\'poly\\', \\'rbf\\', \\'sigmoid\\'],\\'degree\\': range(2,5),\\'gamma\\':[\\'scale\\', \\'auto\\'],\\'probability\\': [True,False],}\\n\\n\\nsvc_cv = GridSearchCV(SVC(), param_grid, cv=10).fit(X_train,y_train)\\n\\n\\n# Print the tuned parameters and score\\nprint(\"Tuned Decision Tree Parameters: {}\".format(svc_cv.best_params_))\\nprint(\"Best score is {}\".format(svc_cv.best_score_))'"
            ]
          },
          "metadata": {
            "tags": []
          },
          "execution_count": 41
        }
      ]
    },
    {
      "cell_type": "code",
      "metadata": {
        "id": "wxm6VCsPpriL",
        "outputId": "8002e328-1a72-4733-b70c-930c735b040a",
        "colab": {
          "base_uri": "https://localhost:8080/",
          "height": 368
        }
      },
      "source": [
        "svc = SVC(C=1, degree = 2, gamma= 'scale', kernel = 'rbf', probability = True).fit(X_train,y_train)\n",
        "\n",
        "\n",
        "svc_cross = cross_val_score(svc, X_train,y_train, cv=20, n_jobs=-1)\n",
        "\n",
        "y_pred_svc =  svc.predict(X_test)\n",
        "\n",
        "print('Cross validation Scores:\\n', (svc_cross))\n",
        "print('Cross validation Scores Média:\\n', (svc_cross.mean()))\n",
        "print('Score test {:.4f}'.format(svc.score(X_test,y_test)))\n",
        "print('Score train: {:.4f}'.format(svc.score(X_train,y_train)))\n",
        "print(confusion_matrix(y_test, y_pred_svc))\n",
        "print(classification_report(y_test, y_pred_svc))"
      ],
      "execution_count": 57,
      "outputs": [
        {
          "output_type": "stream",
          "text": [
            "Cross validation Scores:\n",
            " [0.82608696 0.91304348 0.69565217 0.91304348 0.82608696 0.81818182\n",
            " 0.90909091 0.81818182 0.72727273 0.81818182 0.72727273 0.77272727\n",
            " 0.90909091 0.77272727 0.86363636 0.86363636 0.86363636 0.86363636\n",
            " 0.90909091 0.86363636]\n",
            "Cross validation Scores Média:\n",
            " 0.8336956521739131\n",
            "Score test 0.8206\n",
            "Score train: 0.8449\n",
            "[[248  35]\n",
            " [ 45 118]]\n",
            "              precision    recall  f1-score   support\n",
            "\n",
            "           0       0.85      0.88      0.86       283\n",
            "           1       0.77      0.72      0.75       163\n",
            "\n",
            "    accuracy                           0.82       446\n",
            "   macro avg       0.81      0.80      0.80       446\n",
            "weighted avg       0.82      0.82      0.82       446\n",
            "\n"
          ],
          "name": "stdout"
        }
      ]
    },
    {
      "cell_type": "markdown",
      "metadata": {
        "id": "1UUKcLc0m04x"
      },
      "source": [
        "# Machine learning with less features:\n",
        "[features_new2]"
      ]
    },
    {
      "cell_type": "code",
      "metadata": {
        "id": "oxq1VB070k-4"
      },
      "source": [
        "features_new2 = ['Sex_female','Name_Mr','Sex_male','Fare','Age','Pclass_A','Pclass_C','Cabin_X','Name_Miss','Name_Mrs','Family size_Small',\n",
        "                'Family size_Huge','Family size_Alone','Embarked_S','Pclass_B','Embarked_C','Name_Master','Cabin_C','Family size_Large',\n",
        "                'Cabin_B','Embarked_Q','Cabin_E','Cabin_A','Cabin_D','Cabin_F']\n",
        "y = train1['Survived']\n",
        "X= train1[features_new2]\n",
        "X_train, X_test, y_train, y_test = train_test_split(X,y,random_state=0,test_size=0.5)"
      ],
      "execution_count": 58,
      "outputs": []
    },
    {
      "cell_type": "markdown",
      "metadata": {
        "id": "193OnoA_1FJD"
      },
      "source": [
        "Tuned Decision Tree Parameters: {'criterion': 'entropy', 'max_depth': 9, 'max_features': 3, 'min_samples_leaf': 2, 'n_estimators': 150} Best score is 0.8337078651685393"
      ]
    },
    {
      "cell_type": "code",
      "metadata": {
        "id": "cq3rC6i304vz",
        "outputId": "13425c64-d786-4fb3-deab-6eda64aa1da2",
        "colab": {
          "base_uri": "https://localhost:8080/",
          "height": 368
        }
      },
      "source": [
        "rf3 = RandomForestClassifier(criterion= 'entropy', max_depth= 9,max_features= 3, min_samples_leaf= 2, n_estimators= 150, random_state=0).fit(X_train,y_train)\n",
        "\n",
        "rf3_cross = cross_val_score(rf3, X_train,y_train, cv=20, n_jobs=-1)\n",
        "\n",
        "y_pred_rf3 =  rf3.predict(X_test)\n",
        "\n",
        "print('Cross validation Scores:\\n', (rf3_cross))\n",
        "print('Cross validation Scores Média:\\n', (rf3_cross.mean()))\n",
        "print('Score test {:.4f}'.format(rf3.score(X_test,y_test)))\n",
        "print('Score train: {:.4f}'.format(rf3.score(X_train,y_train)))\n",
        "print(confusion_matrix(y_test, y_pred_rf3))\n",
        "print(classification_report(y_test, y_pred_rf3))"
      ],
      "execution_count": 59,
      "outputs": [
        {
          "output_type": "stream",
          "text": [
            "Cross validation Scores:\n",
            " [0.82608696 0.86956522 0.69565217 0.86956522 0.82608696 0.77272727\n",
            " 0.86363636 0.77272727 0.81818182 0.77272727 0.68181818 0.77272727\n",
            " 0.86363636 0.77272727 0.86363636 0.86363636 0.90909091 0.86363636\n",
            " 0.81818182 0.81818182]\n",
            "Cross validation Scores Média:\n",
            " 0.8157114624505928\n",
            "Score test 0.8229\n",
            "Score train: 0.8697\n",
            "[[243  40]\n",
            " [ 39 124]]\n",
            "              precision    recall  f1-score   support\n",
            "\n",
            "           0       0.86      0.86      0.86       283\n",
            "           1       0.76      0.76      0.76       163\n",
            "\n",
            "    accuracy                           0.82       446\n",
            "   macro avg       0.81      0.81      0.81       446\n",
            "weighted avg       0.82      0.82      0.82       446\n",
            "\n"
          ],
          "name": "stdout"
        }
      ]
    },
    {
      "cell_type": "code",
      "metadata": {
        "id": "YDMqSf-r12YK",
        "outputId": "7a8ffe80-d4ad-4a39-b1dd-1e0d8ff85d2c",
        "colab": {
          "base_uri": "https://localhost:8080/",
          "height": 474
        }
      },
      "source": [
        "features_importances = pd.DataFrame({'feature': features_new2,'importances':rf3.feature_importances_})\n",
        "features_order = features_importances.sort_values(by='importances',ascending = False)\n",
        "print(features_order)"
      ],
      "execution_count": 60,
      "outputs": [
        {
          "output_type": "stream",
          "text": [
            "              feature  importances\n",
            "1             Name_Mr     0.153748\n",
            "4                 Age     0.128569\n",
            "3                Fare     0.116469\n",
            "2            Sex_male     0.105960\n",
            "0          Sex_female     0.104638\n",
            "6            Pclass_C     0.049361\n",
            "7             Cabin_X     0.037669\n",
            "5            Pclass_A     0.033865\n",
            "8           Name_Miss     0.033766\n",
            "10  Family size_Small     0.033132\n",
            "9            Name_Mrs     0.031563\n",
            "13         Embarked_S     0.021143\n",
            "12  Family size_Alone     0.019725\n",
            "15         Embarked_C     0.019064\n",
            "11   Family size_Huge     0.018776\n",
            "14           Pclass_B     0.016801\n",
            "18  Family size_Large     0.014254\n",
            "16        Name_Master     0.013445\n",
            "21            Cabin_E     0.010259\n",
            "19            Cabin_B     0.010101\n",
            "17            Cabin_C     0.008555\n",
            "20         Embarked_Q     0.007197\n",
            "23            Cabin_D     0.005616\n",
            "22            Cabin_A     0.004291\n",
            "24            Cabin_F     0.002036\n"
          ],
          "name": "stdout"
        }
      ]
    },
    {
      "cell_type": "markdown",
      "metadata": {
        "id": "YD5CH7ahnEpo"
      },
      "source": [
        "# RandomForest with less features\n",
        "[features_new3]"
      ]
    },
    {
      "cell_type": "code",
      "metadata": {
        "id": "ekvFbHgn2pd5"
      },
      "source": [
        "features_new3 = ['Sex_female','Name_Mr','Sex_male','Fare','Age','Pclass_A','Pclass_C','Cabin_X','Name_Miss','Name_Mrs','Family size_Small',\n",
        "                'Family size_Huge','Family size_Alone','Embarked_S','Pclass_B','Embarked_C','Name_Master','Cabin_C','Family size_Large',\n",
        "                'Cabin_B','Cabin_E','Cabin_D']\n",
        "y = train1['Survived']\n",
        "X= train1[features_new3]\n",
        "X_train, X_test, y_train, y_test = train_test_split(X,y,random_state=0,test_size=0.5)"
      ],
      "execution_count": 61,
      "outputs": []
    },
    {
      "cell_type": "code",
      "metadata": {
        "id": "s3Ea7Qtu-RHp",
        "outputId": "2cb1bdb7-fa39-4c7f-f9c2-fd60e86d173a",
        "colab": {
          "base_uri": "https://localhost:8080/",
          "height": 88
        }
      },
      "source": [
        "# Setup the parameters and distributions to sample from: param_dist\n",
        "'''param_dist = {\"n_estimators\": [150,200],\n",
        "              \"max_features\": range(1,5),\n",
        "              'max_depth': [4,5,6],\n",
        "              \"min_samples_leaf\": [1,2,3,4,5,6],\n",
        "              \"criterion\": [\"gini\", \"entropy\"]}\n",
        "\n",
        "\n",
        "rt4 = RandomForestClassifier(n_jobs=-1)\n",
        "\n",
        "rt4_cv = GridSearchCV(rt4, param_dist, cv=5, n_jobs=-1).fit(X_train,y_train)\n",
        "\n",
        "\n",
        "# Print the tuned parameters and score\n",
        "print(\"Tuned Decision Tree Parameters: {}\".format(rt4_cv.best_params_))\n",
        "print(\"Best score is {}\".format(rt4_cv.best_score_)) '''"
      ],
      "execution_count": 42,
      "outputs": [
        {
          "output_type": "execute_result",
          "data": {
            "application/vnd.google.colaboratory.intrinsic+json": {
              "type": "string"
            },
            "text/plain": [
              "'param_dist = {\"n_estimators\": [150,200],\\n              \"max_features\": range(1,5),\\n              \\'max_depth\\': [4,5,6],\\n              \"min_samples_leaf\": [1,2,3,4,5,6],\\n              \"criterion\": [\"gini\", \"entropy\"]}\\n\\n\\nrt4 = RandomForestClassifier(n_jobs=-1)\\n\\nrt4_cv = GridSearchCV(rt4, param_dist, cv=5, n_jobs=-1).fit(X_train,y_train)\\n\\n\\n# Print the tuned parameters and score\\nprint(\"Tuned Decision Tree Parameters: {}\".format(rt4_cv.best_params_))\\nprint(\"Best score is {}\".format(rt4_cv.best_score_)) '"
            ]
          },
          "metadata": {
            "tags": []
          },
          "execution_count": 42
        }
      ]
    },
    {
      "cell_type": "code",
      "metadata": {
        "id": "vwDH1XxF3JKS",
        "outputId": "5f1b80b1-bb22-4556-9547-5991e08c9fab",
        "colab": {
          "base_uri": "https://localhost:8080/",
          "height": 368
        }
      },
      "source": [
        "rf4 = RandomForestClassifier(criterion= 'gini', max_depth= 5,max_features= 1, min_samples_leaf= 1, n_estimators= 150, random_state=0).fit(X_train,y_train)\n",
        "\n",
        "rf4_cross = cross_val_score(rf4, X_train,y_train, cv=20, n_jobs=-1)\n",
        "\n",
        "y_pred_rf4 =  rf4.predict(X_test)\n",
        "\n",
        "print('Cross validation Scores:\\n', (rf4_cross))\n",
        "print('Cross validation Scores Média:\\n', (rf4_cross.mean()))\n",
        "print('Score test {:.4f}'.format(rf4.score(X_test,y_test)))\n",
        "print('Score train: {:.4f}'.format(rf4.score(X_train,y_train)))\n",
        "print(confusion_matrix(y_test, y_pred_rf4))\n",
        "print(classification_report(y_test, y_pred_rf4))"
      ],
      "execution_count": 62,
      "outputs": [
        {
          "output_type": "stream",
          "text": [
            "Cross validation Scores:\n",
            " [0.82608696 0.86956522 0.69565217 0.86956522 0.7826087  0.81818182\n",
            " 0.86363636 0.77272727 0.81818182 0.81818182 0.68181818 0.77272727\n",
            " 0.86363636 0.81818182 0.81818182 0.86363636 0.90909091 0.86363636\n",
            " 0.81818182 0.86363636]\n",
            "Cross validation Scores Média:\n",
            " 0.8203557312252965\n",
            "Score test 0.8139\n",
            "Score train: 0.8629\n",
            "[[239  44]\n",
            " [ 39 124]]\n",
            "              precision    recall  f1-score   support\n",
            "\n",
            "           0       0.86      0.84      0.85       283\n",
            "           1       0.74      0.76      0.75       163\n",
            "\n",
            "    accuracy                           0.81       446\n",
            "   macro avg       0.80      0.80      0.80       446\n",
            "weighted avg       0.82      0.81      0.81       446\n",
            "\n"
          ],
          "name": "stdout"
        }
      ]
    },
    {
      "cell_type": "code",
      "metadata": {
        "id": "dp9iL2Qp-MNV",
        "outputId": "4e05af23-e0bf-414f-b44a-5b703b4a90ed",
        "colab": {
          "base_uri": "https://localhost:8080/",
          "height": 421
        }
      },
      "source": [
        "features_importances = pd.DataFrame({'feature': features_new3,'importances':rf4.feature_importances_})\n",
        "features_order = features_importances.sort_values(by='importances',ascending = False)\n",
        "print(features_order)"
      ],
      "execution_count": 63,
      "outputs": [
        {
          "output_type": "stream",
          "text": [
            "              feature  importances\n",
            "0          Sex_female     0.134327\n",
            "1             Name_Mr     0.121842\n",
            "2            Sex_male     0.118080\n",
            "3                Fare     0.074582\n",
            "4                 Age     0.070828\n",
            "9            Name_Mrs     0.068313\n",
            "7             Cabin_X     0.054281\n",
            "5            Pclass_A     0.048989\n",
            "6            Pclass_C     0.046259\n",
            "10  Family size_Small     0.043958\n",
            "8           Name_Miss     0.041414\n",
            "15         Embarked_C     0.025704\n",
            "13         Embarked_S     0.025174\n",
            "12  Family size_Alone     0.023458\n",
            "19            Cabin_B     0.020429\n",
            "20            Cabin_E     0.020193\n",
            "16        Name_Master     0.012571\n",
            "11   Family size_Huge     0.011741\n",
            "14           Pclass_B     0.010037\n",
            "18  Family size_Large     0.009878\n",
            "17            Cabin_C     0.009513\n",
            "21            Cabin_D     0.008431\n"
          ],
          "name": "stdout"
        }
      ]
    },
    {
      "cell_type": "markdown",
      "metadata": {
        "id": "UE5ljxnhne0m"
      },
      "source": [
        "# RandomForest with GradientBoost with more features:\n",
        "[features0]\n",
        "- kaggle = 0.78468 top 10%"
      ]
    },
    {
      "cell_type": "code",
      "metadata": {
        "id": "9BDbdXr3OVkM"
      },
      "source": [
        "from sklearn.model_selection import train_test_split\n",
        "features0 = ['Age', 'Fare', 'Name_Dona','Name_Capt', 'Name_Col', 'Name_Don', 'Name_Dr', 'Name_Jonkheer','Name_Lady', 'Name_Major', 'Name_Master',\n",
        "            'Name_Miss', 'Name_Mlle','Name_Mme', 'Name_Mr', 'Name_Mrs', 'Name_Ms', 'Name_Rev', 'Name_Sir','Name_the Countess', 'Pclass_A', \n",
        "            'Pclass_B', 'Pclass_C', 'Sex_female','Sex_male', 'Embarked_C', 'Embarked_Q', 'Embarked_S','Family size_Alone', 'Family size_Huge', \n",
        "            'Family size_Large','Family size_Small', 'Cabin_A', 'Cabin_B', 'Cabin_C', 'Cabin_D','Cabin_E', 'Cabin_F', 'Cabin_G', 'Cabin_T', \n",
        "            'Cabin_X']\n",
        "y = train1['Survived']\n",
        "X= train1[features0]\n",
        "\n",
        "\n",
        "X_train, X_test, y_train, y_test = train_test_split(X,y,random_state=0,test_size=0.5)"
      ],
      "execution_count": 64,
      "outputs": []
    },
    {
      "cell_type": "code",
      "metadata": {
        "id": "jlrulh3vOYqX"
      },
      "source": [
        "rfboo1 = RandomForestClassifier(criterion= 'entropy', max_depth= 6,max_features= 8, min_samples_leaf= 4, n_estimators= 150).fit(X_train,y_train)\n"
      ],
      "execution_count": 65,
      "outputs": []
    },
    {
      "cell_type": "code",
      "metadata": {
        "id": "MwjHJIw5OjGi",
        "outputId": "f5616c34-2a49-4bab-95ab-4ebbfcbf350b",
        "colab": {
          "base_uri": "https://localhost:8080/",
          "height": 88
        }
      },
      "source": [
        "'''param_dist = {'loss': ['desviance','exponential'],\n",
        "              'learning_rate':np.linspace(0.1,0.0001,11),\n",
        "              'n_estimators':np.linspace(50,400,15),\n",
        "              'min_samples_split':range(2,10),\n",
        "              'min_samples_leaf':range(1,10),\n",
        "              'criterion':['friedman_mse', 'mse', 'mae'],\n",
        "              'max_depth':range(1,10)}\n",
        "\n",
        "gb1 = GradientBoostingClassifier(rfboo1)\n",
        "\n",
        "gb1_cv = GridSearchCV(gb1, param_dist, cv=5, n_jobs=-1).fit(X_train,y_train)'''\n",
        "\n"
      ],
      "execution_count": 45,
      "outputs": [
        {
          "output_type": "execute_result",
          "data": {
            "application/vnd.google.colaboratory.intrinsic+json": {
              "type": "string"
            },
            "text/plain": [
              "\"param_dist = {'loss': ['desviance','exponential'],\\n              'learning_rate':np.linspace(0.1,0.0001,11),\\n              'n_estimators':np.linspace(50,400,15),\\n              'min_samples_split':range(2,10),\\n              'min_samples_leaf':range(1,10),\\n              'criterion':['friedman_mse', 'mse', 'mae'],\\n              'max_depth':range(1,10)}\\n\\ngb1 = GradientBoostingClassifier(rfboo1)\\n\\ngb1_cv = GridSearchCV(gb1, param_dist, cv=5, n_jobs=-1).fit(X_train,y_train)\""
            ]
          },
          "metadata": {
            "tags": []
          },
          "execution_count": 45
        }
      ]
    },
    {
      "cell_type": "code",
      "metadata": {
        "id": "sQ94lMcgT0Rp"
      },
      "source": [
        "param_dist = {'loss': ['exponential'], 'learning_rate':[0.0175,0.018,0.0185,0.0184],'min_samples_split':[2],'min_samples_leaf':[1],\n",
        "              'max_depth':[4]}\n",
        "\n",
        "gb1 = GradientBoostingClassifier(rfboo1)\n",
        "\n",
        "gb1_cv = GridSearchCV(gb1, param_dist, cv=5, n_jobs=-1).fit(X_train,y_train)"
      ],
      "execution_count": 66,
      "outputs": []
    },
    {
      "cell_type": "code",
      "metadata": {
        "id": "XNoq7W2yP6JC",
        "outputId": "88c21bc0-323b-4158-cd09-76b0ecb594a2",
        "colab": {
          "base_uri": "https://localhost:8080/",
          "height": 72
        }
      },
      "source": [
        "print(\"Tuned Decision Tree Parameters: {}\".format(gb1_cv.best_params_))\n",
        "print(\"Best score is {}\".format(gb1_cv.best_score_))"
      ],
      "execution_count": 67,
      "outputs": [
        {
          "output_type": "stream",
          "text": [
            "Tuned Decision Tree Parameters: {'learning_rate': 0.018, 'loss': 'exponential', 'max_depth': 4, 'min_samples_leaf': 1, 'min_samples_split': 2}\n",
            "Best score is 0.8337078651685393\n"
          ],
          "name": "stdout"
        }
      ]
    },
    {
      "cell_type": "markdown",
      "metadata": {
        "id": "G-APSYGJScjj"
      },
      "source": [
        "Tuned Decision Tree Parameters: {'learning_rate': 0.018, 'loss': 'exponential', 'max_depth': 4, 'min_samples_leaf': 1, 'min_samples_split': 2}\n",
        "Best score is 0.8337078651685393"
      ]
    },
    {
      "cell_type": "code",
      "metadata": {
        "id": "AWE9wHjEXLXh"
      },
      "source": [
        "rfboo1 = RandomForestClassifier(criterion= 'entropy', max_depth= 6,max_features= 8, min_samples_leaf= 4, n_estimators= 150).fit(X_train,y_train)"
      ],
      "execution_count": 68,
      "outputs": []
    },
    {
      "cell_type": "code",
      "metadata": {
        "id": "P2yQ_VutSbzf",
        "outputId": "9b2d2a05-4fc4-4e4a-ba18-3d02d43b4233",
        "colab": {
          "base_uri": "https://localhost:8080/",
          "height": 368
        }
      },
      "source": [
        "gb2 = GradientBoostingClassifier(learning_rate=0.018, loss= 'exponential', max_depth= 4, min_samples_leaf= 1, min_samples_split= 2).fit(X_train,y_train)\n",
        "\n",
        "gb2_cross = cross_val_score(gb2,X_train,y_train, cv=20, n_jobs=-1)\n",
        "y_pred_gb2 = gb2.predict(X_test)\n",
        "\n",
        "print('Cross validation Scores:\\n', (gb2_cross))\n",
        "print('Cross validation Scores Média:\\n', (gb2_cross.mean()))\n",
        "print('Score test {:.4f}'.format(gb2.score(X_test,y_test)))\n",
        "print('Score train: {:.4f}'.format(gb2.score(X_train,y_train)))\n",
        "print(confusion_matrix(y_test, y_pred_gb2))\n",
        "print(classification_report(y_test, y_pred_gb2))\n"
      ],
      "execution_count": 69,
      "outputs": [
        {
          "output_type": "stream",
          "text": [
            "Cross validation Scores:\n",
            " [0.82608696 0.82608696 0.69565217 0.82608696 0.82608696 0.86363636\n",
            " 0.86363636 0.81818182 0.81818182 0.77272727 0.72727273 0.68181818\n",
            " 0.81818182 0.77272727 0.90909091 0.90909091 0.86363636 0.86363636\n",
            " 0.86363636 0.81818182]\n",
            "Cross validation Scores Média:\n",
            " 0.818181818181818\n",
            "Score test 0.8229\n",
            "Score train: 0.8764\n",
            "[[248  35]\n",
            " [ 44 119]]\n",
            "              precision    recall  f1-score   support\n",
            "\n",
            "           0       0.85      0.88      0.86       283\n",
            "           1       0.77      0.73      0.75       163\n",
            "\n",
            "    accuracy                           0.82       446\n",
            "   macro avg       0.81      0.80      0.81       446\n",
            "weighted avg       0.82      0.82      0.82       446\n",
            "\n"
          ],
          "name": "stdout"
        }
      ]
    },
    {
      "cell_type": "markdown",
      "metadata": {
        "id": "r5P99z_w_1Hp"
      },
      "source": [
        "Tuned Decision Tree Parameters: {'learning_rate': 0.0085, 'loss': 'exponential', 'max_depth': 4, 'min_samples_leaf': 2, 'min_samples_split': 3}\n",
        "Best score is 0.8314606741573034"
      ]
    },
    {
      "cell_type": "code",
      "metadata": {
        "id": "Nxqu0mSj_y9l"
      },
      "source": [
        "param_dist = {'loss': ['desviance','exponential'], 'learning_rate': [0.0085,0.0084,0.0083,0.0082],'min_samples_split':range(2,8),'min_samples_leaf':range(1,8),\n",
        "              'max_depth':range(1,8)}\n",
        "\n",
        "gb3 = GradientBoostingClassifier(random_state=0)\n",
        "\n",
        "gb3_cv = GridSearchCV(gb1, param_dist, cv=10, n_jobs=-1).fit(X_train,y_train)"
      ],
      "execution_count": null,
      "outputs": []
    },
    {
      "cell_type": "code",
      "metadata": {
        "id": "0oG9aYkMY3hq",
        "outputId": "fb789c34-5851-45b0-f69e-c65c49d6d4a3",
        "colab": {
          "base_uri": "https://localhost:8080/",
          "height": 52
        }
      },
      "source": [
        "print(\"Tuned Decision Tree Parameters: {}\".format(gb3_cv.best_params_))\n",
        "print(\"Best score is {}\".format(gb3_cv.best_score_))"
      ],
      "execution_count": null,
      "outputs": [
        {
          "output_type": "stream",
          "text": [
            "Tuned Decision Tree Parameters: {'learning_rate': 0.0085, 'loss': 'exponential', 'max_depth': 4, 'min_samples_leaf': 2, 'min_samples_split': 3}\n",
            "Best score is 0.8314606741573034\n"
          ],
          "name": "stdout"
        }
      ]
    },
    {
      "cell_type": "code",
      "metadata": {
        "id": "-And6lm1bT6l",
        "outputId": "124745e3-6111-4701-9b7e-1b46861db39c",
        "colab": {
          "base_uri": "https://localhost:8080/",
          "height": 364
        }
      },
      "source": [
        "gb3 = GradientBoostingClassifier(learning_rate=0.0085, loss= 'exponential', max_depth= 4, min_samples_leaf= 2, min_samples_split= 3).fit(X_train,y_train)\n",
        "\n",
        "gb3_cross = cross_val_score(gb3,X_train,y_train, cv=20, n_jobs=-1)\n",
        "y_pred_gb3 = gb3.predict(X_test)\n",
        "\n",
        "print('Cross validation Scores:\\n', (gb3_cross))\n",
        "print('Cross validation Scores Média:\\n', (gb3_cross.mean()))\n",
        "print('Score test {:.4f}'.format(gb3.score(X_test,y_test)))\n",
        "print('Score train: {:.4f}'.format(gb3.score(X_train,y_train)))\n",
        "print(confusion_matrix(y_test, y_pred_gb3))\n",
        "print(classification_report(y_test, y_pred_gb3))"
      ],
      "execution_count": null,
      "outputs": [
        {
          "output_type": "stream",
          "text": [
            "Cross validation Scores:\n",
            " [0.86956522 0.82608696 0.60869565 0.82608696 0.86956522 0.90909091\n",
            " 0.86363636 0.72727273 0.86363636 0.77272727 0.77272727 0.63636364\n",
            " 0.72727273 0.77272727 0.90909091 0.90909091 0.86363636 0.81818182\n",
            " 0.90909091 0.86363636]\n",
            "Cross validation Scores Média:\n",
            " 0.8159090909090908\n",
            "Score test 0.8229\n",
            "Score train: 0.8674\n",
            "[[256  27]\n",
            " [ 52 111]]\n",
            "              precision    recall  f1-score   support\n",
            "\n",
            "           0       0.83      0.90      0.87       283\n",
            "           1       0.80      0.68      0.74       163\n",
            "\n",
            "    accuracy                           0.82       446\n",
            "   macro avg       0.82      0.79      0.80       446\n",
            "weighted avg       0.82      0.82      0.82       446\n",
            "\n"
          ],
          "name": "stdout"
        }
      ]
    },
    {
      "cell_type": "code",
      "metadata": {
        "id": "4AGKdKJUeMF4"
      },
      "source": [
        "X_true = test1[features0]\n",
        "X = train1[features0]\n",
        "y= train1['Survived']\n",
        "\n",
        "gb3_true = GradientBoostingClassifier(learning_rate=0.0085, loss= 'exponential', max_depth= 4, min_samples_leaf= 2, min_samples_split= 3).fit(X,y)\n",
        "\n",
        "y_pred_gb3_true = gb3.predict(X_true)"
      ],
      "execution_count": null,
      "outputs": []
    },
    {
      "cell_type": "code",
      "metadata": {
        "id": "YwEKQbE9e482",
        "outputId": "25c1e9c5-dbe4-4202-e373-96eca73e5739",
        "colab": {
          "base_uri": "https://localhost:8080/",
          "height": 415
        }
      },
      "source": [
        "output = pd.DataFrame({'PassengerId': test1.PassengerId, 'Survived': y_pred_gb3_true})\n",
        "output.to_csv('my_submission[gradientboost1].csv', index=False)\n",
        "output"
      ],
      "execution_count": null,
      "outputs": [
        {
          "output_type": "execute_result",
          "data": {
            "text/html": [
              "<div>\n",
              "<style scoped>\n",
              "    .dataframe tbody tr th:only-of-type {\n",
              "        vertical-align: middle;\n",
              "    }\n",
              "\n",
              "    .dataframe tbody tr th {\n",
              "        vertical-align: top;\n",
              "    }\n",
              "\n",
              "    .dataframe thead th {\n",
              "        text-align: right;\n",
              "    }\n",
              "</style>\n",
              "<table border=\"1\" class=\"dataframe\">\n",
              "  <thead>\n",
              "    <tr style=\"text-align: right;\">\n",
              "      <th></th>\n",
              "      <th>PassengerId</th>\n",
              "      <th>Survived</th>\n",
              "    </tr>\n",
              "  </thead>\n",
              "  <tbody>\n",
              "    <tr>\n",
              "      <th>0</th>\n",
              "      <td>892</td>\n",
              "      <td>0</td>\n",
              "    </tr>\n",
              "    <tr>\n",
              "      <th>1</th>\n",
              "      <td>893</td>\n",
              "      <td>0</td>\n",
              "    </tr>\n",
              "    <tr>\n",
              "      <th>2</th>\n",
              "      <td>894</td>\n",
              "      <td>0</td>\n",
              "    </tr>\n",
              "    <tr>\n",
              "      <th>3</th>\n",
              "      <td>895</td>\n",
              "      <td>0</td>\n",
              "    </tr>\n",
              "    <tr>\n",
              "      <th>4</th>\n",
              "      <td>896</td>\n",
              "      <td>1</td>\n",
              "    </tr>\n",
              "    <tr>\n",
              "      <th>...</th>\n",
              "      <td>...</td>\n",
              "      <td>...</td>\n",
              "    </tr>\n",
              "    <tr>\n",
              "      <th>413</th>\n",
              "      <td>1305</td>\n",
              "      <td>0</td>\n",
              "    </tr>\n",
              "    <tr>\n",
              "      <th>414</th>\n",
              "      <td>1306</td>\n",
              "      <td>1</td>\n",
              "    </tr>\n",
              "    <tr>\n",
              "      <th>415</th>\n",
              "      <td>1307</td>\n",
              "      <td>0</td>\n",
              "    </tr>\n",
              "    <tr>\n",
              "      <th>416</th>\n",
              "      <td>1308</td>\n",
              "      <td>0</td>\n",
              "    </tr>\n",
              "    <tr>\n",
              "      <th>417</th>\n",
              "      <td>1309</td>\n",
              "      <td>1</td>\n",
              "    </tr>\n",
              "  </tbody>\n",
              "</table>\n",
              "<p>418 rows × 2 columns</p>\n",
              "</div>"
            ],
            "text/plain": [
              "     PassengerId  Survived\n",
              "0            892         0\n",
              "1            893         0\n",
              "2            894         0\n",
              "3            895         0\n",
              "4            896         1\n",
              "..           ...       ...\n",
              "413         1305         0\n",
              "414         1306         1\n",
              "415         1307         0\n",
              "416         1308         0\n",
              "417         1309         1\n",
              "\n",
              "[418 rows x 2 columns]"
            ]
          },
          "metadata": {
            "tags": []
          },
          "execution_count": 105
        }
      ]
    }
  ]
}